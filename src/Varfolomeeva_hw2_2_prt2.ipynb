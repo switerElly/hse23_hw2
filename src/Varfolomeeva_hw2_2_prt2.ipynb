{
  "nbformat": 4,
  "nbformat_minor": 0,
  "metadata": {
    "colab": {
      "provenance": []
    },
    "kernelspec": {
      "name": "python3",
      "display_name": "Python 3"
    },
    "language_info": {
      "name": "python"
    }
  },
  "cells": [
    {
      "cell_type": "markdown",
      "source": [
        "## Скачиваем геном близкородственной бактерии T.oleivorans"
      ],
      "metadata": {
        "id": "Hat-1Cgp4ajA"
      }
    },
    {
      "cell_type": "code",
      "source": [
        "!sh -c \"$(curl -fsSL ftp://ftp.ncbi.nlm.nih.gov/entrez/entrezdirect/install-edirect.sh)\""
      ],
      "metadata": {
        "colab": {
          "base_uri": "https://localhost:8080/"
        },
        "id": "C69gF4UC4NvZ",
        "outputId": "5f7ca85c-f7d7-4556-df83-56d52c23acc0"
      },
      "execution_count": 3,
      "outputs": [
        {
          "output_type": "stream",
          "name": "stdout",
          "text": [
            "\n",
            "Entrez Direct has been successfully downloaded and installed.\n",
            "\n",
            "\n",
            "To activate EDirect for this terminal session, please execute the following:\n",
            "\n",
            "export PATH=${HOME}/edirect:${PATH}\n",
            "\n"
          ]
        }
      ]
    },
    {
      "cell_type": "code",
      "source": [
        "!echo \"export PATH=/root/edirect:\\${PATH}\" >> ${HOME}/.bashrc"
      ],
      "metadata": {
        "id": "wbl2MeEt4OVw"
      },
      "execution_count": 2,
      "outputs": []
    },
    {
      "cell_type": "code",
      "source": [
        "!export PATH=${HOME}/edirect:${PATH}"
      ],
      "metadata": {
        "id": "5w1xdZ-U4Qx4"
      },
      "execution_count": 4,
      "outputs": []
    },
    {
      "cell_type": "code",
      "source": [
        "!$HOME/edirect/efetch -db nuccore -id HF680312 -format gb  >  T_oleivorans_MIL_1.gbk"
      ],
      "metadata": {
        "id": "aXo-s5-74TBN"
      },
      "execution_count": 5,
      "outputs": []
    },
    {
      "cell_type": "markdown",
      "source": [
        "## Аннотация генома"
      ],
      "metadata": {
        "id": "0NiawPb74hNi"
      }
    },
    {
      "cell_type": "code",
      "source": [
        "!pip install biopython"
      ],
      "metadata": {
        "colab": {
          "base_uri": "https://localhost:8080/"
        },
        "id": "sZyMPEj84Wy2",
        "outputId": "f67fe160-e779-4946-9464-79f215dda047"
      },
      "execution_count": 6,
      "outputs": [
        {
          "output_type": "stream",
          "name": "stdout",
          "text": [
            "Collecting biopython\n",
            "  Downloading biopython-1.81-cp310-cp310-manylinux_2_17_x86_64.manylinux2014_x86_64.whl (3.1 MB)\n",
            "\u001b[2K     \u001b[90m━━━━━━━━━━━━━━━━━━━━━━━━━━━━━━━━━━━━━━━━\u001b[0m \u001b[32m3.1/3.1 MB\u001b[0m \u001b[31m27.1 MB/s\u001b[0m eta \u001b[36m0:00:00\u001b[0m\n",
            "\u001b[?25hRequirement already satisfied: numpy in /usr/local/lib/python3.10/dist-packages (from biopython) (1.23.5)\n",
            "Installing collected packages: biopython\n",
            "Successfully installed biopython-1.81\n"
          ]
        }
      ]
    },
    {
      "cell_type": "code",
      "execution_count": 7,
      "metadata": {
        "id": "Hm94zxasFlIU"
      },
      "outputs": [],
      "source": [
        "from Bio import SeqIO\n",
        "from Bio.Seq import Seq\n",
        "from Bio.SeqUtils import GC\n",
        "from Bio.Data import CodonTable\n",
        "from Bio import Entrez\n",
        "from Bio.SeqFeature import SeqFeature, FeatureLocation\n",
        "from datetime import datetime as dt\n",
        "import pandas as pd"
      ]
    },
    {
      "cell_type": "code",
      "source": [
        "# Посмотрим содержание файла до заполнения\n",
        "scaffolds = []\n",
        "for scaf in SeqIO.parse('after_gap.fa', format='fasta'):\n",
        "  scaffolds.append(scaf)\n",
        "\n",
        "# В формате словаря annotations и features пустые.\n",
        "# Будем заполнять их\n",
        "\n",
        "scaffolds[0].__dict__"
      ],
      "metadata": {
        "colab": {
          "base_uri": "https://localhost:8080/"
        },
        "id": "3c3qgfCb-Etm",
        "outputId": "17b05c55-27f7-44cb-cec0-7788145368af"
      },
      "execution_count": 8,
      "outputs": [
        {
          "output_type": "execute_result",
          "data": {
            "text/plain": [
              "{'_seq': Seq('TAAAACCCCCTTCCGGTATCGGTTGGGGGTTTTTTCTTGGCTGCTATTTGATGC...TTA'),\n",
              " 'id': 'scaffold1_cov231',\n",
              " 'name': 'scaffold1_cov231',\n",
              " 'description': 'scaffold1_cov231',\n",
              " 'dbxrefs': [],\n",
              " 'annotations': {},\n",
              " '_per_letter_annotations': {},\n",
              " 'features': []}"
            ]
          },
          "metadata": {},
          "execution_count": 8
        }
      ]
    },
    {
      "cell_type": "markdown",
      "source": [
        "## Сначала заполним общую информацию в annotations и id скаффолда"
      ],
      "metadata": {
        "id": "WVAYVl6e4m4I"
      }
    },
    {
      "cell_type": "code",
      "source": [
        "# Сначала заполним общую информацию в annotations и id скаффолда\n",
        "scaffolds = {}\n",
        "for scaf in SeqIO.parse(\"after_gap.fa\", \"fasta\"):\n",
        "\n",
        "  scaf.annotations['molecule_type'] = 'DNA'\n",
        "  scaf.annotations['data_file_division'] = 'BCT'\n",
        "  scaf.annotations['date'] = dt.now().strftime(\"%d-%b-%Y\").upper()\n",
        "\n",
        "  scaffolds[scaf.id] = scaf"
      ],
      "metadata": {
        "id": "6rEsQjAYI3-r"
      },
      "execution_count": 9,
      "outputs": []
    },
    {
      "cell_type": "code",
      "source": [
        "# Просмотрим, записалась ли информация\n",
        "\n",
        "scaffolds['scaffold10_cov287'].__dict__"
      ],
      "metadata": {
        "colab": {
          "base_uri": "https://localhost:8080/"
        },
        "id": "qqhEKR1v-3zG",
        "outputId": "e6bea4a0-025d-45e7-e14e-76aa7ed797e1"
      },
      "execution_count": 10,
      "outputs": [
        {
          "output_type": "execute_result",
          "data": {
            "text/plain": [
              "{'_seq': Seq('AGACCCGCTTTTTCGATATTGCTAAAATCAATTCCGGCACCATTGAGTGCATTG...CGC'),\n",
              " 'id': 'scaffold10_cov287',\n",
              " 'name': 'scaffold10_cov287',\n",
              " 'description': 'scaffold10_cov287',\n",
              " 'dbxrefs': [],\n",
              " 'annotations': {'molecule_type': 'DNA',\n",
              "  'data_file_division': 'BCT',\n",
              "  'date': '22-OCT-2023'},\n",
              " '_per_letter_annotations': {},\n",
              " 'features': []}"
            ]
          },
          "metadata": {},
          "execution_count": 10
        }
      ]
    },
    {
      "cell_type": "markdown",
      "source": [
        "## Заполняем features"
      ],
      "metadata": {
        "id": "98I12eF2AO5z"
      }
    },
    {
      "cell_type": "markdown",
      "source": [
        "### Работа с proteins.fasta (позиции + трансляция)"
      ],
      "metadata": {
        "id": "UnoJXpsW4rPu"
      }
    },
    {
      "cell_type": "code",
      "source": [
        "# Заполним координаты генов, стренд и тип по информации из файла proteins.fasta\n",
        "\n",
        "prot = {}\n",
        "for g in SeqIO.parse(\"proteins.fasta\", \"fasta\"):\n",
        "  inf = g.description.split(' ')\n",
        "\n",
        "  if inf[4] == '+':\n",
        "    strand = 1\n",
        "  else:\n",
        "    strand = -1\n",
        "\n",
        "  feat = SeqFeature(FeatureLocation(int(inf[2]), int(inf[3]), strand=strand), type=\"CDS\")\n",
        "  feat.qualifiers['locus_tag'] = [f'LT_{inf[0]}']\n",
        "\n",
        "# И трансляции генов\n",
        "\n",
        "  feat.qualifiers['translation'] = [g.seq]\n",
        "\n",
        "  scaffolds[inf[1]].features.append(feat)\n",
        "\n",
        "  prot[inf[0]] = feat"
      ],
      "metadata": {
        "id": "BxynU5j1F2r5"
      },
      "execution_count": 11,
      "outputs": []
    },
    {
      "cell_type": "code",
      "source": [
        "# Проверяем, заполнились ли features\n",
        "\n",
        "feat.qualifiers"
      ],
      "metadata": {
        "colab": {
          "base_uri": "https://localhost:8080/"
        },
        "id": "rUCLfDru_GcB",
        "outputId": "79127c1e-d0e7-4ee9-8e9e-02a26c64acc1"
      },
      "execution_count": 12,
      "outputs": [
        {
          "output_type": "execute_result",
          "data": {
            "text/plain": [
              "{'locus_tag': ['LT_3614'],\n",
              " 'translation': [Seq('MLKANNLTVSMSRRGNCHDNACAESFFALLKRERIRRKIYRTREEGKADIFNYI...RHG')]}"
            ]
          },
          "metadata": {},
          "execution_count": 12
        }
      ]
    },
    {
      "cell_type": "markdown",
      "source": [
        "### Добавляем функции белков"
      ],
      "metadata": {
        "id": "eUW3Efaz42C3"
      }
    },
    {
      "cell_type": "code",
      "source": [
        "# Ищем и добавляем все функции из файла T_oleivorans_MIL_1.gbk\n",
        "\n",
        "mil = {}\n",
        "for feat in SeqIO.read(\"T_oleivorans_MIL_1.gbk\", \"genbank\").features:\n",
        "  if ('protein_id' not in feat.qualifiers) or ('product' not in feat.qualifiers):\n",
        "    continue\n",
        "\n",
        "  mil[feat.qualifiers['protein_id'][0]] = feat.qualifiers['product'][0]\n",
        "\n",
        "mil1_hits = pd.read_csv('scaffolds.hits_from_MIL_1.txt', sep='\\t', header=None, names=['qseqid', 'sseqid', '0', '1', '2', '3', '4', '5', '6', '7', '8', 'bitscore'])"
      ],
      "metadata": {
        "id": "e9Do717lF7MQ"
      },
      "execution_count": 13,
      "outputs": []
    },
    {
      "cell_type": "code",
      "source": [
        "hits = mil1_hits[mil1_hits['sseqid'].str.contains(\"CCU\")].copy()\n",
        "hits.sort_values('bitscore', ascending=False, inplace=True)\n",
        "hits.drop_duplicates('qseqid', inplace=True)\n",
        "\n",
        "for i, hit in hits.iterrows():\n",
        "  gene = prot[str(hit['qseqid'])]\n",
        "  gene.qualifiers['product'] = [mil[hit['sseqid'].split('_')[2]]]"
      ],
      "metadata": {
        "id": "yf-pxQhcGDRR"
      },
      "execution_count": 14,
      "outputs": []
    },
    {
      "cell_type": "code",
      "source": [
        "# Сохраняем все записи в файл формата genbank\n",
        "\n",
        "SeqIO.write(scaffolds.values(), \"GENOME.gbk\", \"genbank\")"
      ],
      "metadata": {
        "colab": {
          "base_uri": "https://localhost:8080/"
        },
        "id": "WBSlIZezGLF8",
        "outputId": "4f0db651-2eb5-4c29-f689-6176ea090d4b"
      },
      "execution_count": 15,
      "outputs": [
        {
          "output_type": "execute_result",
          "data": {
            "text/plain": [
              "67"
            ]
          },
          "metadata": {},
          "execution_count": 15
        }
      ]
    },
    {
      "cell_type": "code",
      "source": [
        "# Смотрим, как заполнился файл\n",
        "\n",
        "!tail -n200 GENOME.gbk"
      ],
      "metadata": {
        "colab": {
          "base_uri": "https://localhost:8080/"
        },
        "id": "hoOJjXVF9yYS",
        "outputId": "1b1b278e-90cf-4f42-c145-46fc741a40cc"
      },
      "execution_count": 17,
      "outputs": [
        {
          "output_type": "stream",
          "name": "stdout",
          "text": [
            "VERSION     scaffold59_cov472\n",
            "KEYWORDS    .\n",
            "SOURCE      .\n",
            "  ORGANISM  .\n",
            "            .\n",
            "FEATURES             Location/Qualifiers\n",
            "     CDS             complement(3..703)\n",
            "                     /locus_tag=\"LT_3606\"\n",
            "                     /translation=\"MIKRIYHLSNGSAGARTIATASTTEGLPMTRYIASKRMKELNFVS\n",
            "                     CQLPNHSYKRGGNEHVSIANTLNRQFKVEQPNQVWCGDVTYIWTGKRWAYLAVVLDLYA\n",
            "                     RQVVGWAMSHSPDSELTTKALHLAFEARGRPKNLMFHSDQGCHYTSLKFRQTLWRLQIQ\n",
            "                     QSMSRRGNCWDNAPMERFFRSFKTEWMPSTGYQSFAEARSEVSRYITDYYSRYRPHTFN\n",
            "                     GGLTPAEAEARY\"\n",
            "                     /product=\"transposase orfB\"\n",
            "     CDS             complement(833..1170)\n",
            "                     /locus_tag=\"LT_3607\"\n",
            "                     /translation=\"MPSYIYGDNMTKQTRPRFNPEFKVEAAQLVLDQGYSVKEAAQAMG\n",
            "                     VGLSTLDKWVRKLKNERDGQLTPGNPITPEQREIAELKKQVKRLELEKEILKKASALLM\n",
            "                     SDSMNGLR\"\n",
            "                     /product=\"transposase orfA\"\n",
            "ORIGIN\n",
            "        1 tatatcttgc ctcagcttca gcgggtgtta acccgccatt aaatgtatgt ggtctgtaac\n",
            "       61 gactataata atcggttatg tatcgcgaca cttccgatct cgcttcagca aatgattgat\n",
            "      121 agcctgttga tggcatccac tctgttttaa agcttcgaaa aaacctttcc ataggcgcat\n",
            "      181 tgtcccaaca gtttccgcga cgactcatgc tttgttgaat ttgtaagcgc cacaatgttt\n",
            "      241 gcctgaactt taagctggtg taatgacaac cctgatctga gtgaaacatt aaattttttg\n",
            "      301 gtcttcctct cgcttcaaaa gccagatgca aagcctttgt ggttaactcg ctatcgggag\n",
            "      361 aatgagacat ggcccagcca acgacttgcc tagcatatag atccaataca accgctaaat\n",
            "      421 aagcccagcg tttgccagtc caaatgtagg tcacatctcc acaccaaact tggtttggtt\n",
            "      481 gctcaacttt aaactgacga ttaagcgtat tggcaatgct cacatgctcg ttaccacctc\n",
            "      541 gcttatagct atggttcggt agttggcagc tcacaaaatt aagctctttc atgcgcttgc\n",
            "      601 tggcaatata gcgagtcatc ggcaagcctt ccgttgtcga agcggttgca atggttctcg\n",
            "      661 caccagcaga gccattgctt aaatgataaa tacgcttaat catggccact tgtttaacct\n",
            "      721 tctcagggtt aatcaatttt ttacgcttaa gccaatcatt aaaactgctt cgataaatac\n",
            "      781 tgaaggcttg gcataagtca gtgaccttgt aagctccctt aagctgtttg gctagcgcaa\n",
            "      841 accgttcatg ctgtcggaca ttaagagagc tgaagccttt tttaatattt ctttctcaag\n",
            "      901 ctctaatcgt ttaacttgtt ttttaagctc agcaatttct cgttgctcgg gcgtaattgg\n",
            "      961 attgcctggt gttaactgcc catcacgttc gttttttaat tttcgaaccc atttatccaa\n",
            "     1021 cgttgaaagg ccaacgccca tagcttgagc tgcttctttt actgaatagc cttggtcgag\n",
            "     1081 cactaactgt gcagcttcta ctttgaattc tgggttaaag cgtggtctag tttgtttggt\n",
            "     1141 catattgtca ccgtaaatat atgagggcat t\n",
            "//\n",
            "LOCUS       scaffold60_cov2352       108 bp    DNA              BCT 22-OCT-2023\n",
            "DEFINITION  scaffold60_cov2352.\n",
            "ACCESSION   scaffold60_cov2352\n",
            "VERSION     scaffold60_cov2352\n",
            "KEYWORDS    .\n",
            "SOURCE      .\n",
            "  ORGANISM  .\n",
            "            .\n",
            "FEATURES             Location/Qualifiers\n",
            "     CDS             complement(3..106)\n",
            "                     /locus_tag=\"LT_3608\"\n",
            "                     /translation=\"PMINALFVFCNRNRDKVKLLYWERNGFVLWYKRLE\"\n",
            "                     /product=\"IS66 Orf2 family protein\"\n",
            "ORIGIN\n",
            "        1 tttccaaccg tttgtaccac agcacaaagc cattgcgctc ccagtacagt agcttaactt\n",
            "       61 tatcgcggtt acgattacaa aagacgaaca gcgcattgat catggggt\n",
            "//\n",
            "LOCUS       scaffold61_cov818        460 bp    DNA              BCT 22-OCT-2023\n",
            "DEFINITION  scaffold61_cov818.\n",
            "ACCESSION   scaffold61_cov818\n",
            "VERSION     scaffold61_cov818\n",
            "KEYWORDS    .\n",
            "SOURCE      .\n",
            "  ORGANISM  .\n",
            "            .\n",
            "FEATURES             Location/Qualifiers\n",
            "     CDS             complement(4..458)\n",
            "                     /locus_tag=\"LT_3609\"\n",
            "                     /translation=\"SQGQLTGTDTKDEIFEISTTANQVAVNGMNLTSVAAIDAGASAAD\n",
            "                     AITAVVAVDATLAAAQKALAASNIAFTNINAANLNSGALNGTNTEAETFQISTALNQVN\n",
            "                     VNGIDLTNVSAIDAGTDLGDTVVTTELVNAALTSDTNALTASGINFSG\"\n",
            "                     /product=\"predicted heterotrimeric autotransporter subunit\n",
            "                     A\"\n",
            "ORIGIN\n",
            "        1 aacccagaga agttaatacc tgaagctgtt agagcattgg tatccgaagt cagcgctgca\n",
            "       61 ttcactaatt cagtcgttac tacggtgtcg cctaaatcag tacctgcatc aattgccgat\n",
            "      121 acattagtaa ggtctatacc attcacgttc acttgattaa gagcagtgct gatttggaat\n",
            "      181 gtttccgctt cggtatttgt tccattcaat gctccgctat ttaaatttgc agcattaata\n",
            "      241 ttcgtaaatg caatatttga agcggcaagc gctttttgag ctgcagccaa tgttgcatca\n",
            "      301 acagcaacta cggctgtgat tgcatctgca gcacttgcac ctgcatcaat ggcagcaacc\n",
            "      361 gatgtcaggt tcatgccatt aacagctact tggttggccg tagtgctgat ctcgaagatt\n",
            "      421 tcatctttgg tgtcggtacc ggttaattga ccttgagata\n",
            "//\n",
            "LOCUS       scaffold62_cov1290       190 bp    DNA              BCT 22-OCT-2023\n",
            "DEFINITION  scaffold62_cov1290.\n",
            "ACCESSION   scaffold62_cov1290\n",
            "VERSION     scaffold62_cov1290\n",
            "KEYWORDS    .\n",
            "SOURCE      .\n",
            "  ORGANISM  .\n",
            "            .\n",
            "FEATURES             Location/Qualifiers\n",
            "     CDS             complement(3..190)\n",
            "                     /locus_tag=\"LT_3610\"\n",
            "                     /translation=\"EDTSEQLDIIPAVVQVLVHARKKYACKACESGVHIAELPKQPLPK\n",
            "                     SNASPGLLAHIAVAKYQD\"\n",
            "                     /product=\"transposase IS66\"\n",
            "ORIGIN\n",
            "        1 cgtcttgata tttggcaacc gcaatgtggg cgagtaagcc cgggctagca ttgctctttg\n",
            "       61 gtagcggttg ctttggaagt tcagcgatgt gtacgccgga ttcacaggct ttacacgcgt\n",
            "      121 attttttgcg ggcgtgtacg agtacctgaa ccacggcagg aataatatcc agctgttcgc\n",
            "      181 tggtgtcttc\n",
            "//\n",
            "LOCUS       scaffold63_cov708        358 bp    DNA              BCT 22-OCT-2023\n",
            "DEFINITION  scaffold63_cov708.\n",
            "ACCESSION   scaffold63_cov708\n",
            "VERSION     scaffold63_cov708\n",
            "KEYWORDS    .\n",
            "SOURCE      .\n",
            "  ORGANISM  .\n",
            "            .\n",
            "FEATURES             Location/Qualifiers\n",
            "     CDS             complement(3..358)\n",
            "                     /locus_tag=\"LT_3611\"\n",
            "                     /translation=\"AIGFTSVASVDAGAGDADEITSDITVAATLNGTNALNGAGIDFSN\n",
            "                     IEKAGLNSGSLTGTSGNDVFNITADNTVTTKAIDFTSVASVDAGAGDADEITSDITVDA\n",
            "                     TVNGAKALNGAGIDF\"\n",
            "ORIGIN\n",
            "        1 taaaatcaat tccggcacca ttcagcgctt tggctccgtt gactgttgcg tcaacagtga\n",
            "       61 tatcggatgt gatttcgtca gcatcaccgg cgcctgcatc caccgaggcg actgaagtaa\n",
            "      121 aatcaattgc cttcgttgtt actgtattat cagcagtgat attgaacaca tcattgccgc\n",
            "      181 tagtaccggt taaagaaccg ctattaagac ccgctttttc gatattgcta aaatcaatac\n",
            "      241 cggcaccatt gagtgcattg gttccattga gtgttgcagc aactgtgata tcggatgtga\n",
            "      301 tctcgtcagc atcgccggca cctgcatcca ccgaggcgac ggaggtgaag ccgattgc\n",
            "//\n",
            "LOCUS       scaffold64_cov1509       158 bp    DNA              BCT 22-OCT-2023\n",
            "DEFINITION  scaffold64_cov1509.\n",
            "ACCESSION   scaffold64_cov1509\n",
            "VERSION     scaffold64_cov1509\n",
            "KEYWORDS    .\n",
            "SOURCE      .\n",
            "  ORGANISM  .\n",
            "            .\n",
            "FEATURES             Location/Qualifiers\n",
            "     CDS             3..157\n",
            "                     /locus_tag=\"LT_3612\"\n",
            "                     /translation=\"SGENLRSDGAVPEAKNKVWVADVTYLKVKKQWHYLSAVMDLHSRR\n",
            "                     IVGWSLD\"\n",
            "                     /product=\"transposase orfB\"\n",
            "ORIGIN\n",
            "        1 ctctggtgaa aatctaagat ccgatggtgc ggtgcctgaa gcaaagaaca aagtatgggt\n",
            "       61 tgcggatgtg acgtatctca aagtaaagaa gcagtggcat tacttgtcag cggtcatgga\n",
            "      121 tcttcactca cggcgcattg ttggttggag cttagata\n",
            "//\n",
            "LOCUS       scaffold65_cov1273       146 bp    DNA              BCT 22-OCT-2023\n",
            "DEFINITION  scaffold65_cov1273.\n",
            "ACCESSION   scaffold65_cov1273\n",
            "VERSION     scaffold65_cov1273\n",
            "KEYWORDS    .\n",
            "SOURCE      .\n",
            "  ORGANISM  .\n",
            "            .\n",
            "FEATURES             Location/Qualifiers\n",
            "     CDS             complement(4..146)\n",
            "                     /locus_tag=\"LT_3613\"\n",
            "                     /translation=\"LQQTLPKGKTGEALAYLDKNWDKLTVYISDGRLNIDNNPVENAIR\n",
            "                     PFA\"\n",
            "                     /product=\"transposase IS66\"\n",
            "ORIGIN\n",
            "        1 atcgcaaacg gtctgatggc attttcgact gggttgttgt ctatattcag tcggccatcg\n",
            "       61 ctgatgtata ccgtgagttt gtcccagttt ttatcgaggt acgctaaggc ttcccccgtt\n",
            "      121 tttccttttg gcagggtttg ttgcaa\n",
            "//\n",
            "LOCUS       scaffold66_cov1079       206 bp    DNA              BCT 22-OCT-2023\n",
            "DEFINITION  scaffold66_cov1079.\n",
            "ACCESSION   scaffold66_cov1079\n",
            "VERSION     scaffold66_cov1079\n",
            "KEYWORDS    .\n",
            "SOURCE      .\n",
            "  ORGANISM  .\n",
            "            .\n",
            "FEATURES             Location/Qualifiers\n",
            "ORIGIN\n",
            "        1 ccgccgtgtt ctttgctgcc gagtcaaaga aaaatacacg ttcataaaat ctcgaacaga\n",
            "       61 tcgctactcc gttcgtaccc tgtgtcgaac acttgaagtt catcccagtg ggttttatgc\n",
            "      121 ctggttagcg aaccccgaaa gtacacggca gaaagttgat gagtatctac tcgggtttat\n",
            "      181 taagcaattc tggcttgaga gtggtt\n",
            "//\n",
            "LOCUS       scaffold67_cov1323       207 bp    DNA              BCT 22-OCT-2023\n",
            "DEFINITION  scaffold67_cov1323.\n",
            "ACCESSION   scaffold67_cov1323\n",
            "VERSION     scaffold67_cov1323\n",
            "KEYWORDS    .\n",
            "SOURCE      .\n",
            "  ORGANISM  .\n",
            "            .\n",
            "FEATURES             Location/Qualifiers\n",
            "     CDS             13..206\n",
            "                     /locus_tag=\"LT_3614\"\n",
            "                     /translation=\"MLKANNLTVSMSRRGNCHDNACAESFFALLKRERIRRKIYRTREE\n",
            "                     GKADIFNYIELFYNSTRRHG\"\n",
            "                     /product=\"transposase orfB\"\n",
            "ORIGIN\n",
            "        1 actggcaaag catgttaaaa gccaataact taaccgtcag tatgagccgt agagggaact\n",
            "       61 gtcatgataa tgcctgtgcg gaaagcttct ttgccttgct aaagcgagaa cgtattcgcc\n",
            "      121 gtaaaattta tcgcacaaga gaagaaggaa aagcggatat atttaattat attgagctgt\n",
            "      181 tttataattc cacacgtcgt catggta\n",
            "//\n"
          ]
        }
      ]
    }
  ]
}
